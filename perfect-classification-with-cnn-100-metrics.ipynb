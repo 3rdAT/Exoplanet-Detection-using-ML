{
 "cells": [
  {
   "cell_type": "code",
   "execution_count": 1,
   "metadata": {},
   "outputs": [],
   "source": [
    "import pandas as pd\n",
    "import numpy as np\n",
    "import seaborn as sns\n",
    "import matplotlib.pyplot as plt\n",
    "import scipy.signal\n",
    "from scipy.signal import savgol_filter\n",
    "from  scipy import ndimage\n",
    "from sklearn.preprocessing import MinMaxScaler, StandardScaler, RobustScaler, normalize \n",
    "from scipy.ndimage.filters import uniform_filter1d\n",
    "from sklearn.metrics import accuracy_score\n",
    "from sklearn.metrics import precision_score\n",
    "from sklearn.metrics import recall_score\n",
    "from sklearn.metrics import f1_score\n",
    "from sklearn.metrics import roc_auc_score\n",
    "from sklearn.metrics import confusion_matrix\n",
    "from sklearn.metrics import classification_report\n",
    "from sklearn.metrics import balanced_accuracy_score\n",
    "from keras.models import Sequential\n",
    "from keras.layers import Dense, Dropout, Conv1D, MaxPooling1D, Flatten\n",
    "from keras.optimizers import Adam, SGD\n",
    "from keras import metrics, regularizers\n",
    "from keras.callbacks import EarlyStopping\n",
    "from keras import backend as K\n",
    "import keras\n",
    "import seaborn as sn\n",
    "import math\n",
    "import timeit\n",
    "import tensorflow as tf"
   ]
  },
  {
   "cell_type": "markdown",
   "metadata": {},
   "source": [
    "### Obtaining the data..."
   ]
  },
  {
   "cell_type": "code",
   "execution_count": 2,
   "metadata": {},
   "outputs": [],
   "source": [
    "rutatrain = './exoTrain.csv'\n",
    "rutatest = './exoTest.csv'\n",
    "extrain_df = pd.read_csv(rutatrain)\n",
    "extest_df = pd.read_csv(rutatest)\n",
    "\n",
    "# Separate the label from the rest of attributes\n",
    "Y_train = extrain_df.LABEL\n",
    "X_train = extrain_df.drop('LABEL',axis=1)\n",
    "Y_test = extest_df.LABEL\n",
    "X_test = extest_df.drop('LABEL',axis=1)"
   ]
  },
  {
   "cell_type": "markdown",
   "metadata": {},
   "source": [
    "# Data Preprocessing"
   ]
  },
  {
   "cell_type": "markdown",
   "metadata": {},
   "source": [
    "### Preprocess functions"
   ]
  },
  {
   "cell_type": "code",
   "execution_count": 3,
   "metadata": {},
   "outputs": [],
   "source": [
    "# Applying Fast Fourier Transform (FFT)\n",
    "def fourier_transform(df):\n",
    "    df_fft = np.abs(np.fft.fft(df, axis=1))\n",
    "    return df_fft\n",
    "\n",
    "# Handling upper outliers: personalized function\n",
    "def reduce_upper_outliers(df,reduce = 0.01, half_width=4):\n",
    "    length = len(df.iloc[0,:])\n",
    "    remove = int(length*reduce)\n",
    "    for i in df.index.values: #Para cada muestra\n",
    "        values = df.loc[i,:]\n",
    "        sorted_values = values.sort_values(ascending = False)\n",
    "        for j in range(remove): \n",
    "            idx = sorted_values.index[j]\n",
    "            new_val = 0\n",
    "            count = 0\n",
    "            idx_num = int(idx[5:])\n",
    "            for k in range(2*half_width+1):\n",
    "                idx2 = idx_num + k - half_width\n",
    "                if idx2 <1 or idx2 >= length or idx_num == idx2:\n",
    "                    continue\n",
    "                new_val += values['FLUX.'+str(idx2)]\n",
    "\n",
    "                count += 1\n",
    "            new_val /= count # count will always be positive here\n",
    "            if new_val < values[idx]: # just in case there's a few persistently high adjacent values\n",
    "                df.at[i,idx] = new_val\n",
    "    return df\n",
    "\n",
    "def iterar_ruo(df, n=2):\n",
    "    for i in range(n): \n",
    "        df2 = reduce_upper_outliers(df)\n",
    "    return df2\n",
    "\n",
    "# Handling outliers: Smoothing filters\n",
    "def apply_filter(df,filternumber):\n",
    "    #UNIFORM FILTER == 0\n",
    "    if filternumber == 0:\n",
    "        filt = uniform_filter1d(df, axis=1, size=50)\n",
    "    #GAUSSIAN FILTER == 1\n",
    "    elif filternumber == 1:\n",
    "        filt = ndimage.filters.gaussian_filter(df, sigma=10)\n",
    "    #Savitzky-Golay FILTER == 2\n",
    "    elif filternumber == 2:\n",
    "        filt = savgol_filter(df,21,4,deriv=0)\n",
    "\n",
    "    return filt\n",
    "\n",
    "# Normalizing data\n",
    "def apply_normalization(df_train, df_test, nnumber):\n",
    "    #MinMax Scaler\n",
    "    if nnumber == 0:\n",
    "        scaler = MinMaxScaler()\n",
    "        norm_train = scaler.fit_transform(df_train)\n",
    "        norm_test = scaler.transform(df_test)\n",
    "    #Normalize\n",
    "    elif nnumber == 1:\n",
    "        norm_train = normalize(df_train)\n",
    "        norm_test = normalize(df_test)\n",
    "    #Robust Scaler\n",
    "    elif nnumber == 2:\n",
    "        scaler = RobustScaler()\n",
    "        norm_train = scaler.fit_transform(df_train)\n",
    "        norm_test = scaler.transform(df_test)\n",
    "        \n",
    "    \n",
    "    norm_train = pd.DataFrame(norm_train)\n",
    "    norm_test = pd.DataFrame(norm_test)\n",
    "    return norm_train, norm_test\n",
    "\n",
    "# Standardizing data\n",
    "def apply_standarization(df_train, df_test):\n",
    "    scaler = StandardScaler()\n",
    "    norm_train = scaler.fit_transform(df_train)\n",
    "    norm_test = scaler.transform(df_test)\n",
    "    \n",
    "    norm_train = pd.DataFrame(norm_train)\n",
    "    norm_test = pd.DataFrame(norm_test)\n",
    "    return norm_train, norm_test\n"
   ]
  },
  {
   "cell_type": "markdown",
   "metadata": {},
   "source": [
    "*Function reduce_upper_outliers was extracted from this notebook: https://www.kaggle.com/muonneutrino/exoplanet-data-visualization-and-exploration"
   ]
  },
  {
   "cell_type": "markdown",
   "metadata": {},
   "source": [
    "This class is created in order to speed up and enhance our preprocess flow, providing the opportunity of trying the combination of techniques desired in a fast and easy way."
   ]
  },
  {
   "cell_type": "markdown",
   "metadata": {},
   "source": [
    "### Preprocess class"
   ]
  },
  {
   "cell_type": "code",
   "execution_count": 4,
   "metadata": {},
   "outputs": [],
   "source": [
    "class dataProcessor:\n",
    "\n",
    "    def __init__(self, outlier=False, smoothing=False, fourier=False, normalize=False, standardize=False):\n",
    "        self.outlier = outlier\n",
    "        self.smoothing = smoothing\n",
    "        self.normalize = normalize\n",
    "        self.standardize = standardize\n",
    "        self.fourier = fourier\n",
    "    \n",
    "    def process(self, df_train_x, df_test_x):\n",
    "        \n",
    "        # Handling outliers\n",
    "        if self.outlier:\n",
    "            print(\"Removing upper outliers...\")\n",
    "            df_train_x = iterar_ruo(df_train_x, P_OUTLIERS)\n",
    "            df_test_x = iterar_ruo(df_test_x, P_OUTLIERS)\n",
    "            \n",
    "        # Apply fourier transform\n",
    "        if self.fourier:\n",
    "            print(\"Applying Fourier...\")\n",
    "            df_train_x = fourier_transform(df_train_x)\n",
    "            df_test_x = fourier_transform(df_test_x)\n",
    "        \n",
    "        # Applying smoothing filters\n",
    "        if self.smoothing:\n",
    "            print(\"Applying smoothing filter...\")\n",
    "            df_train_x = pd.DataFrame(apply_filter(df_train_x, FILTER_NUMBER))\n",
    "            df_test_x = pd.DataFrame(apply_filter(df_test_x, FILTER_NUMBER))\n",
    "            \n",
    "        # Normalization\n",
    "        if self.normalize:\n",
    "            print(\"Normalizing...\")\n",
    "            df_train_x, df_test_x = apply_normalization(df_train_x, df_test_x, TIPO_NORM)\n",
    "            \n",
    "        # Normalization\n",
    "        if self.standardize:\n",
    "            print(\"Standardizing...\")\n",
    "            df_train_x, df_test_x = apply_standarization(df_train_x, df_test_x)\n",
    "        \n",
    "\n",
    "        print(\"Finished Processing!\")\n",
    "        return df_train_x, df_test_x"
   ]
  },
  {
   "cell_type": "code",
   "execution_count": 5,
   "metadata": {},
   "outputs": [
    {
     "name": "stdout",
     "output_type": "stream",
     "text": [
      "Removing upper outliers...\n",
      "Applying Fourier...\n",
      "Applying smoothing filter...\n",
      "Normalizing...\n",
      "Standardizing...\n",
      "Finished Processing!\n"
     ]
    }
   ],
   "source": [
    "# Change the value of P_OUTLIERS to apply reduce_upper_outliers over a specific percentage of the values of each sample\n",
    "# Change the value of FILTER_NUMBER to apply a specific smoothing filter\n",
    "    # FILTER_NUMBER == 0 -> UNIFORM FILTER\n",
    "    # FILTER_NUMBER == 1 -> GAUSSIAN FILTER\n",
    "    # FILTER_NUMBER == 2 -> SAVITZKY-GOLAY FILTER\n",
    "# Change the value of TIPO_NORM to apply a specific normalization method\n",
    "    # TIPO_NORM == 0 -> MaxMinScaler\n",
    "    # TIPO_NORM == 1 -> normalize\n",
    "    # TIPO_NORM == 2 -> RobustScaler\n",
    "    \n",
    "P_OUTLIERS = 2\n",
    "FILTER_NUMBER = 1\n",
    "TIPO_NORM = 1\n",
    "\n",
    "Processor = dataProcessor(\n",
    "    outlier = True,\n",
    "    fourier = True,\n",
    "    smoothing = True,\n",
    "    normalize= True,\n",
    "    standardize= True\n",
    ")\n",
    "\n",
    "df_train_x = X_train.copy()\n",
    "df_test_x = X_test.copy()\n",
    "df_train_x, df_test_x = Processor.process(df_train_x, df_test_x)"
   ]
  },
  {
   "cell_type": "code",
   "execution_count": 40,
   "metadata": {},
   "outputs": [
    {
     "data": {
      "text/html": [
       "<div>\n",
       "<style scoped>\n",
       "    .dataframe tbody tr th:only-of-type {\n",
       "        vertical-align: middle;\n",
       "    }\n",
       "\n",
       "    .dataframe tbody tr th {\n",
       "        vertical-align: top;\n",
       "    }\n",
       "\n",
       "    .dataframe thead th {\n",
       "        text-align: right;\n",
       "    }\n",
       "</style>\n",
       "<table border=\"1\" class=\"dataframe\">\n",
       "  <thead>\n",
       "    <tr style=\"text-align: right;\">\n",
       "      <th></th>\n",
       "      <th>0</th>\n",
       "      <th>1</th>\n",
       "      <th>2</th>\n",
       "      <th>3</th>\n",
       "      <th>4</th>\n",
       "      <th>5</th>\n",
       "      <th>6</th>\n",
       "      <th>7</th>\n",
       "      <th>8</th>\n",
       "      <th>9</th>\n",
       "      <th>...</th>\n",
       "      <th>3187</th>\n",
       "      <th>3188</th>\n",
       "      <th>3189</th>\n",
       "      <th>3190</th>\n",
       "      <th>3191</th>\n",
       "      <th>3192</th>\n",
       "      <th>3193</th>\n",
       "      <th>3194</th>\n",
       "      <th>3195</th>\n",
       "      <th>3196</th>\n",
       "    </tr>\n",
       "  </thead>\n",
       "  <tbody>\n",
       "    <tr>\n",
       "      <th>0</th>\n",
       "      <td>0.529582</td>\n",
       "      <td>0.527766</td>\n",
       "      <td>0.524077</td>\n",
       "      <td>0.518388</td>\n",
       "      <td>0.510512</td>\n",
       "      <td>0.500208</td>\n",
       "      <td>0.487205</td>\n",
       "      <td>0.471205</td>\n",
       "      <td>0.451887</td>\n",
       "      <td>0.428991</td>\n",
       "      <td>...</td>\n",
       "      <td>0.468339</td>\n",
       "      <td>0.496892</td>\n",
       "      <td>0.521689</td>\n",
       "      <td>0.542840</td>\n",
       "      <td>0.560497</td>\n",
       "      <td>0.574847</td>\n",
       "      <td>0.586072</td>\n",
       "      <td>0.594331</td>\n",
       "      <td>0.599756</td>\n",
       "      <td>0.602445</td>\n",
       "    </tr>\n",
       "    <tr>\n",
       "      <th>1</th>\n",
       "      <td>0.511907</td>\n",
       "      <td>0.510097</td>\n",
       "      <td>0.506423</td>\n",
       "      <td>0.500763</td>\n",
       "      <td>0.492933</td>\n",
       "      <td>0.482703</td>\n",
       "      <td>0.469811</td>\n",
       "      <td>0.453972</td>\n",
       "      <td>0.434881</td>\n",
       "      <td>0.412292</td>\n",
       "      <td>...</td>\n",
       "      <td>0.452908</td>\n",
       "      <td>0.481046</td>\n",
       "      <td>0.505510</td>\n",
       "      <td>0.526397</td>\n",
       "      <td>0.543849</td>\n",
       "      <td>0.558044</td>\n",
       "      <td>0.569155</td>\n",
       "      <td>0.577334</td>\n",
       "      <td>0.582709</td>\n",
       "      <td>0.585373</td>\n",
       "    </tr>\n",
       "    <tr>\n",
       "      <th>2</th>\n",
       "      <td>0.477463</td>\n",
       "      <td>0.475667</td>\n",
       "      <td>0.472022</td>\n",
       "      <td>0.466416</td>\n",
       "      <td>0.458677</td>\n",
       "      <td>0.448588</td>\n",
       "      <td>0.435911</td>\n",
       "      <td>0.420385</td>\n",
       "      <td>0.401732</td>\n",
       "      <td>0.379739</td>\n",
       "      <td>...</td>\n",
       "      <td>0.422836</td>\n",
       "      <td>0.450171</td>\n",
       "      <td>0.473988</td>\n",
       "      <td>0.494364</td>\n",
       "      <td>0.511420</td>\n",
       "      <td>0.525314</td>\n",
       "      <td>0.536204</td>\n",
       "      <td>0.544228</td>\n",
       "      <td>0.549505</td>\n",
       "      <td>0.552122</td>\n",
       "    </tr>\n",
       "    <tr>\n",
       "      <th>3</th>\n",
       "      <td>0.427935</td>\n",
       "      <td>0.426156</td>\n",
       "      <td>0.422553</td>\n",
       "      <td>0.417022</td>\n",
       "      <td>0.409410</td>\n",
       "      <td>0.399521</td>\n",
       "      <td>0.387148</td>\n",
       "      <td>0.372064</td>\n",
       "      <td>0.354033</td>\n",
       "      <td>0.332885</td>\n",
       "      <td>...</td>\n",
       "      <td>0.379567</td>\n",
       "      <td>0.405760</td>\n",
       "      <td>0.428659</td>\n",
       "      <td>0.448310</td>\n",
       "      <td>0.464804</td>\n",
       "      <td>0.478271</td>\n",
       "      <td>0.488847</td>\n",
       "      <td>0.496653</td>\n",
       "      <td>0.501791</td>\n",
       "      <td>0.504341</td>\n",
       "    </tr>\n",
       "    <tr>\n",
       "      <th>4</th>\n",
       "      <td>0.365681</td>\n",
       "      <td>0.363922</td>\n",
       "      <td>0.360370</td>\n",
       "      <td>0.354931</td>\n",
       "      <td>0.347473</td>\n",
       "      <td>0.337831</td>\n",
       "      <td>0.325831</td>\n",
       "      <td>0.311294</td>\n",
       "      <td>0.294032</td>\n",
       "      <td>0.273931</td>\n",
       "      <td>...</td>\n",
       "      <td>0.325148</td>\n",
       "      <td>0.349926</td>\n",
       "      <td>0.371688</td>\n",
       "      <td>0.390441</td>\n",
       "      <td>0.406240</td>\n",
       "      <td>0.419179</td>\n",
       "      <td>0.429368</td>\n",
       "      <td>0.436903</td>\n",
       "      <td>0.441870</td>\n",
       "      <td>0.444337</td>\n",
       "    </tr>\n",
       "    <tr>\n",
       "      <th>...</th>\n",
       "      <td>...</td>\n",
       "      <td>...</td>\n",
       "      <td>...</td>\n",
       "      <td>...</td>\n",
       "      <td>...</td>\n",
       "      <td>...</td>\n",
       "      <td>...</td>\n",
       "      <td>...</td>\n",
       "      <td>...</td>\n",
       "      <td>...</td>\n",
       "      <td>...</td>\n",
       "      <td>...</td>\n",
       "      <td>...</td>\n",
       "      <td>...</td>\n",
       "      <td>...</td>\n",
       "      <td>...</td>\n",
       "      <td>...</td>\n",
       "      <td>...</td>\n",
       "      <td>...</td>\n",
       "      <td>...</td>\n",
       "      <td>...</td>\n",
       "    </tr>\n",
       "    <tr>\n",
       "      <th>5082</th>\n",
       "      <td>0.469748</td>\n",
       "      <td>0.471895</td>\n",
       "      <td>0.476110</td>\n",
       "      <td>0.482258</td>\n",
       "      <td>0.490111</td>\n",
       "      <td>0.499329</td>\n",
       "      <td>0.509481</td>\n",
       "      <td>0.520011</td>\n",
       "      <td>0.530228</td>\n",
       "      <td>0.539302</td>\n",
       "      <td>...</td>\n",
       "      <td>0.415585</td>\n",
       "      <td>0.409197</td>\n",
       "      <td>0.401761</td>\n",
       "      <td>0.393925</td>\n",
       "      <td>0.386243</td>\n",
       "      <td>0.379183</td>\n",
       "      <td>0.373122</td>\n",
       "      <td>0.368343</td>\n",
       "      <td>0.365047</td>\n",
       "      <td>0.363367</td>\n",
       "    </tr>\n",
       "    <tr>\n",
       "      <th>5083</th>\n",
       "      <td>0.484928</td>\n",
       "      <td>0.487081</td>\n",
       "      <td>0.491307</td>\n",
       "      <td>0.497464</td>\n",
       "      <td>0.505320</td>\n",
       "      <td>0.514525</td>\n",
       "      <td>0.524635</td>\n",
       "      <td>0.535082</td>\n",
       "      <td>0.545156</td>\n",
       "      <td>0.554011</td>\n",
       "      <td>...</td>\n",
       "      <td>0.425958</td>\n",
       "      <td>0.419793</td>\n",
       "      <td>0.412517</td>\n",
       "      <td>0.404789</td>\n",
       "      <td>0.397177</td>\n",
       "      <td>0.390159</td>\n",
       "      <td>0.384121</td>\n",
       "      <td>0.379354</td>\n",
       "      <td>0.376063</td>\n",
       "      <td>0.374384</td>\n",
       "    </tr>\n",
       "    <tr>\n",
       "      <th>5084</th>\n",
       "      <td>0.496485</td>\n",
       "      <td>0.498641</td>\n",
       "      <td>0.502870</td>\n",
       "      <td>0.509030</td>\n",
       "      <td>0.516879</td>\n",
       "      <td>0.526063</td>\n",
       "      <td>0.536130</td>\n",
       "      <td>0.546500</td>\n",
       "      <td>0.556450</td>\n",
       "      <td>0.565120</td>\n",
       "      <td>...</td>\n",
       "      <td>0.433810</td>\n",
       "      <td>0.427833</td>\n",
       "      <td>0.420694</td>\n",
       "      <td>0.413063</td>\n",
       "      <td>0.405517</td>\n",
       "      <td>0.398541</td>\n",
       "      <td>0.392529</td>\n",
       "      <td>0.387777</td>\n",
       "      <td>0.384493</td>\n",
       "      <td>0.382817</td>\n",
       "    </tr>\n",
       "    <tr>\n",
       "      <th>5085</th>\n",
       "      <td>0.504311</td>\n",
       "      <td>0.506467</td>\n",
       "      <td>0.510698</td>\n",
       "      <td>0.516856</td>\n",
       "      <td>0.524697</td>\n",
       "      <td>0.533864</td>\n",
       "      <td>0.543896</td>\n",
       "      <td>0.554208</td>\n",
       "      <td>0.564067</td>\n",
       "      <td>0.572606</td>\n",
       "      <td>...</td>\n",
       "      <td>0.439119</td>\n",
       "      <td>0.433276</td>\n",
       "      <td>0.426237</td>\n",
       "      <td>0.418678</td>\n",
       "      <td>0.411181</td>\n",
       "      <td>0.404239</td>\n",
       "      <td>0.398248</td>\n",
       "      <td>0.393508</td>\n",
       "      <td>0.390231</td>\n",
       "      <td>0.388559</td>\n",
       "    </tr>\n",
       "    <tr>\n",
       "      <th>5086</th>\n",
       "      <td>0.508356</td>\n",
       "      <td>0.510514</td>\n",
       "      <td>0.514746</td>\n",
       "      <td>0.520905</td>\n",
       "      <td>0.528746</td>\n",
       "      <td>0.537907</td>\n",
       "      <td>0.547926</td>\n",
       "      <td>0.558212</td>\n",
       "      <td>0.568030</td>\n",
       "      <td>0.576506</td>\n",
       "      <td>...</td>\n",
       "      <td>0.441937</td>\n",
       "      <td>0.436161</td>\n",
       "      <td>0.429172</td>\n",
       "      <td>0.421647</td>\n",
       "      <td>0.414174</td>\n",
       "      <td>0.407247</td>\n",
       "      <td>0.401265</td>\n",
       "      <td>0.396530</td>\n",
       "      <td>0.393256</td>\n",
       "      <td>0.391585</td>\n",
       "    </tr>\n",
       "  </tbody>\n",
       "</table>\n",
       "<p>5087 rows × 3197 columns</p>\n",
       "</div>"
      ],
      "text/plain": [
       "          0         1         2         3         4         5         6     \\\n",
       "0     0.529582  0.527766  0.524077  0.518388  0.510512  0.500208  0.487205   \n",
       "1     0.511907  0.510097  0.506423  0.500763  0.492933  0.482703  0.469811   \n",
       "2     0.477463  0.475667  0.472022  0.466416  0.458677  0.448588  0.435911   \n",
       "3     0.427935  0.426156  0.422553  0.417022  0.409410  0.399521  0.387148   \n",
       "4     0.365681  0.363922  0.360370  0.354931  0.347473  0.337831  0.325831   \n",
       "...        ...       ...       ...       ...       ...       ...       ...   \n",
       "5082  0.469748  0.471895  0.476110  0.482258  0.490111  0.499329  0.509481   \n",
       "5083  0.484928  0.487081  0.491307  0.497464  0.505320  0.514525  0.524635   \n",
       "5084  0.496485  0.498641  0.502870  0.509030  0.516879  0.526063  0.536130   \n",
       "5085  0.504311  0.506467  0.510698  0.516856  0.524697  0.533864  0.543896   \n",
       "5086  0.508356  0.510514  0.514746  0.520905  0.528746  0.537907  0.547926   \n",
       "\n",
       "          7         8         9     ...      3187      3188      3189  \\\n",
       "0     0.471205  0.451887  0.428991  ...  0.468339  0.496892  0.521689   \n",
       "1     0.453972  0.434881  0.412292  ...  0.452908  0.481046  0.505510   \n",
       "2     0.420385  0.401732  0.379739  ...  0.422836  0.450171  0.473988   \n",
       "3     0.372064  0.354033  0.332885  ...  0.379567  0.405760  0.428659   \n",
       "4     0.311294  0.294032  0.273931  ...  0.325148  0.349926  0.371688   \n",
       "...        ...       ...       ...  ...       ...       ...       ...   \n",
       "5082  0.520011  0.530228  0.539302  ...  0.415585  0.409197  0.401761   \n",
       "5083  0.535082  0.545156  0.554011  ...  0.425958  0.419793  0.412517   \n",
       "5084  0.546500  0.556450  0.565120  ...  0.433810  0.427833  0.420694   \n",
       "5085  0.554208  0.564067  0.572606  ...  0.439119  0.433276  0.426237   \n",
       "5086  0.558212  0.568030  0.576506  ...  0.441937  0.436161  0.429172   \n",
       "\n",
       "          3190      3191      3192      3193      3194      3195      3196  \n",
       "0     0.542840  0.560497  0.574847  0.586072  0.594331  0.599756  0.602445  \n",
       "1     0.526397  0.543849  0.558044  0.569155  0.577334  0.582709  0.585373  \n",
       "2     0.494364  0.511420  0.525314  0.536204  0.544228  0.549505  0.552122  \n",
       "3     0.448310  0.464804  0.478271  0.488847  0.496653  0.501791  0.504341  \n",
       "4     0.390441  0.406240  0.419179  0.429368  0.436903  0.441870  0.444337  \n",
       "...        ...       ...       ...       ...       ...       ...       ...  \n",
       "5082  0.393925  0.386243  0.379183  0.373122  0.368343  0.365047  0.363367  \n",
       "5083  0.404789  0.397177  0.390159  0.384121  0.379354  0.376063  0.374384  \n",
       "5084  0.413063  0.405517  0.398541  0.392529  0.387777  0.384493  0.382817  \n",
       "5085  0.418678  0.411181  0.404239  0.398248  0.393508  0.390231  0.388559  \n",
       "5086  0.421647  0.414174  0.407247  0.401265  0.396530  0.393256  0.391585  \n",
       "\n",
       "[5087 rows x 3197 columns]"
      ]
     },
     "execution_count": 40,
     "metadata": {},
     "output_type": "execute_result"
    }
   ],
   "source": [
    "df_train_x"
   ]
  },
  {
   "cell_type": "code",
   "execution_count": 6,
   "metadata": {},
   "outputs": [
    {
     "data": {
      "image/png": "[encoded data removed]",
      "text/plain": [
       "<Figure size 432x288 with 1 Axes>"
      ]
     },
     "metadata": {
      "needs_background": "light"
     },
     "output_type": "display_data"
    }
   ],
   "source": [
    "plt.plot(X_train)\n",
    "plt.show()"
   ]
  },
  {
   "cell_type": "code",
   "execution_count": 7,
   "metadata": {},
   "outputs": [
    {
     "data": {
      "image/png": "[encoded data removed]",
      "text/plain": [
       "<Figure size 432x288 with 1 Axes>"
      ]
     },
     "metadata": {
      "needs_background": "light"
     },
     "output_type": "display_data"
    }
   ],
   "source": [
    "plt.plot(df_train_x)\n",
    "plt.show()"
   ]
  },
  {
   "cell_type": "markdown",
   "metadata": {},
   "source": [
    "### Handling imbalanced data: upsampling/oversampling with RandomOverSampler"
   ]
  },
  {
   "cell_type": "code",
   "execution_count": 8,
   "metadata": {},
   "outputs": [
    {
     "name": "stdout",
     "output_type": "stream",
     "text": [
      "Distribution before resampling Counter({1: 5050, 2: 37})\n",
      "Distribution labels after resampling Counter({2: 5050, 1: 5050})\n"
     ]
    },
    {
     "data": {
      "image/png": "[encoded data removed]",
      "text/plain": [
       "<Figure size 432x288 with 1 Axes>"
      ]
     },
     "metadata": {
      "needs_background": "light"
     },
     "output_type": "display_data"
    }
   ],
   "source": [
    "from sklearn.utils import resample\n",
    "from imblearn.over_sampling import RandomOverSampler\n",
    "from collections import Counter\n",
    "\n",
    "\n",
    "# UPSAMPLING: RandomOverSampler\n",
    "X_total = df_train_x.copy()\n",
    "os =  RandomOverSampler(sampling_strategy='minority')\n",
    "upsampling, upsampling_Y = os.fit_resample(X_total, Y_train)\n",
    "\n",
    "print (\"Distribution before resampling {}\".format(Counter(Y_train)))\n",
    "print (\"Distribution labels after resampling {}\".format(Counter(upsampling_Y)))\n",
    "\n",
    "upsampling_Y.value_counts().plot(kind='bar', title='Count (target)');"
   ]
  },
  {
   "cell_type": "markdown",
   "metadata": {},
   "source": [
    "### Functions"
   ]
  },
  {
   "cell_type": "code",
   "execution_count": 9,
   "metadata": {},
   "outputs": [],
   "source": [
    "def recall_m(y_true, y_pred):\n",
    "    true_positives = K.sum(K.round(K.clip(y_true * y_pred, 0, 1)))\n",
    "    possible_positives = K.sum(K.round(K.clip(y_true, 0, 1)))\n",
    "    recall = true_positives / (possible_positives + K.epsilon())\n",
    "    return recall\n",
    "\n",
    "def specificity_m(y_true, y_pred):\n",
    "    true_negatives = K.sum(K.round(K.clip((1 - y_true) * (1 - y_pred), 0, 1)))\n",
    "    possible_negatives = K.sum(K.round(K.clip(1 - y_true, 0, 1)))\n",
    "    specificity = true_negatives / (possible_negatives + K.epsilon())\n",
    "    return specificity\n",
    "\n",
    "def imb_accuracy(y_true, y_pred):\n",
    "    recall = recall_m(y_true, y_pred)\n",
    "    specificity = specificity_m(y_true, y_pred)\n",
    "    score = (0.5 * recall) + (0.5 * specificity)\n",
    "    return score\n",
    "\n",
    "# Transformation of train labels to OneHotEncoder format\n",
    "def transform_Y(y_samp, y_sampTest):\n",
    "    y_samp[y_samp < 2] = 0\n",
    "    y_samp[y_samp > 1] = 1\n",
    "    y_sampTest[y_sampTest < 2] = 0\n",
    "    y_sampTest[y_sampTest > 1] = 1\n",
    "    Y_train_ohe = np.zeros((y_samp.shape[0], 2))\n",
    "\n",
    "    for i in range(y_samp.shape[0]):\n",
    "        Y_train_ohe[i, int(y_samp[i])] = 1\n",
    "        \n",
    "    return Y_train_ohe, y_sampTest"
   ]
  },
  {
   "cell_type": "markdown",
   "metadata": {},
   "source": [
    "### Creation of the model"
   ]
  },
  {
   "cell_type": "code",
   "execution_count": 10,
   "metadata": {},
   "outputs": [],
   "source": [
    "# Crear y configurar CNN\n",
    "def create_model(X_samp, activation='relu', learn_rate=0.01):\n",
    "    model = Sequential()\n",
    "    model.add(Conv1D(filters = 16, input_shape = (X_samp.shape[1],1), kernel_size=(3), activation = activation, kernel_regularizer='l2', padding='same'))\n",
    "    model.add(MaxPooling1D(pool_size = 2, strides = 2))\n",
    "    model.add(Dropout(0.3))\n",
    "    model.add(Flatten())\n",
    "    model.add(Dense(32, activation = activation, kernel_regularizer='l2'))\n",
    "    model.add(Dropout(0.5))\n",
    "    model.add(Dense(2, activation = \"sigmoid\", kernel_regularizer='l2'))\n",
    "    \n",
    "    optimizer = Adam(lr=learn_rate)\n",
    "    #Adam is a optimized version of a SGD (Stochastic Gradient Descendant) optimizer.\n",
    "    model.compile(optimizer=optimizer, loss='binary_crossentropy', metrics=[imb_accuracy])\n",
    "    #binary_crossentropy is the go-to loss function for classification tasks, either balanced or imbalanced. \n",
    "    #It is the first choice when no preference is built from domain knowledge yet.\n",
    "    return model\n",
    "    "
   ]
  },
  {
   "cell_type": "markdown",
   "metadata": {},
   "source": [
    "### Training and prediction"
   ]
  },
  {
   "cell_type": "code",
   "execution_count": 11,
   "metadata": {},
   "outputs": [],
   "source": [
    "EPOCHS = 50\n",
    "VAL_SPLIT = 0.2\n",
    "BATCH_SIZE = 75\n",
    "early_stop = EarlyStopping(monitor='val_loss', patience=4, restore_best_weights=True)"
   ]
  },
  {
   "cell_type": "code",
   "execution_count": 12,
   "metadata": {},
   "outputs": [
    {
     "name": "stdout",
     "output_type": "stream",
     "text": [
      "Epoch 1/50\n",
      "108/108 [==============================] - 11s 27ms/step - loss: 1.7999 - imb_accuracy: 0.9140 - val_loss: 0.1914 - val_imb_accuracy: 1.0000\n",
      "Epoch 2/50\n",
      "108/108 [==============================] - 1s 12ms/step - loss: 0.2206 - imb_accuracy: 0.9875 - val_loss: 0.2235 - val_imb_accuracy: 1.0000\n",
      "Epoch 3/50\n",
      "108/108 [==============================] - 1s 12ms/step - loss: 0.2526 - imb_accuracy: 0.9847 - val_loss: 0.1402 - val_imb_accuracy: 1.0000\n",
      "Epoch 4/50\n",
      "108/108 [==============================] - 1s 12ms/step - loss: 0.2146 - imb_accuracy: 0.9873 - val_loss: 0.1902 - val_imb_accuracy: 1.0000\n",
      "Epoch 5/50\n",
      "108/108 [==============================] - 1s 12ms/step - loss: 0.2377 - imb_accuracy: 0.9876 - val_loss: 0.1843 - val_imb_accuracy: 1.0000\n",
      "Epoch 6/50\n",
      "108/108 [==============================] - 1s 12ms/step - loss: 0.2065 - imb_accuracy: 0.9829 - val_loss: 0.1609 - val_imb_accuracy: 1.0000\n",
      "Epoch 7/50\n",
      "108/108 [==============================] - 1s 11ms/step - loss: 0.2230 - imb_accuracy: 0.9871 - val_loss: 0.1562 - val_imb_accuracy: 1.0000\n",
      "Training time: 18.978032499999998\n",
      "Model: \"sequential\"\n",
      "_________________________________________________________________\n",
      "Layer (type)                 Output Shape              Param #   \n",
      "=================================================================\n",
      "conv1d (Conv1D)              (None, 3197, 16)          64        \n",
      "_________________________________________________________________\n",
      "max_pooling1d (MaxPooling1D) (None, 1598, 16)          0         \n",
      "_________________________________________________________________\n",
      "dropout (Dropout)            (None, 1598, 16)          0         \n",
      "_________________________________________________________________\n",
      "flatten (Flatten)            (None, 25568)             0         \n",
      "_________________________________________________________________\n",
      "dense (Dense)                (None, 32)                818208    \n",
      "_________________________________________________________________\n",
      "dropout_1 (Dropout)          (None, 32)                0         \n",
      "_________________________________________________________________\n",
      "dense_1 (Dense)              (None, 2)                 66        \n",
      "=================================================================\n",
      "Total params: 818,338\n",
      "Trainable params: 818,338\n",
      "Non-trainable params: 0\n",
      "_________________________________________________________________\n",
      "None\n"
     ]
    },
    {
     "name": "stderr",
     "output_type": "stream",
     "text": [
      "c:\\users\\swade\\miniconda3\\envs\\project\\lib\\site-packages\\tensorflow\\python\\keras\\engine\\sequential.py:450: UserWarning: `model.predict_classes()` is deprecated and will be removed after 2021-01-01. Please use instead:* `np.argmax(model.predict(x), axis=-1)`,   if your model does multi-class classification   (e.g. if it uses a `softmax` last-layer activation).* `(model.predict(x) > 0.5).astype(\"int32\")`,   if your model does binary classification   (e.g. if it uses a `sigmoid` last-layer activation).\n",
      "  warnings.warn('`model.predict_classes()` is deprecated and '\n",
      "c:\\users\\swade\\miniconda3\\envs\\project\\lib\\site-packages\\tensorflow\\python\\keras\\engine\\sequential.py:425: UserWarning: `model.predict_proba()` is deprecated and will be removed after 2021-01-01. Please use `model.predict()` instead.\n",
      "  warnings.warn('`model.predict_proba()` is deprecated and '\n"
     ]
    },
    {
     "name": "stdout",
     "output_type": "stream",
     "text": [
      "              precision    recall  f1-score   support\n",
      "\n",
      "           0       1.00      1.00      1.00       565\n",
      "           1       0.80      0.80      0.80         5\n",
      "\n",
      "    accuracy                           1.00       570\n",
      "   macro avg       0.90      0.90      0.90       570\n",
      "weighted avg       1.00      1.00      1.00       570\n",
      "\n",
      "Confussion matrix\n"
     ]
    },
    {
     "data": {
      "image/png": "[encoded data removed]",
      "text/plain": [
       "<Figure size 720x504 with 2 Axes>"
      ]
     },
     "metadata": {
      "needs_background": "light"
     },
     "output_type": "display_data"
    }
   ],
   "source": [
    "Test_Y = Y_test.copy()\n",
    "X_sampTest = df_test_x.copy()\n",
    "X_sampTest = np.expand_dims(X_sampTest, axis=2)\n",
    "upsamplingg_Y = upsampling_Y.copy()\n",
    "X_sampUp = upsampling.copy()\n",
    "X_sampUp = np.expand_dims(X_sampUp, axis=2)\n",
    "\n",
    "# Creation and training of the NN\n",
    "modelUp = create_model(X_sampUp)\n",
    "Y_train_ohe, Test_Y = transform_Y(upsamplingg_Y, Test_Y)\n",
    "start_time_train = timeit.default_timer()\n",
    "baseline_historyUp = modelUp.fit(X_sampUp, Y_train_ohe, validation_split = VAL_SPLIT, \n",
    "                            epochs=EPOCHS, batch_size=BATCH_SIZE, shuffle=True, callbacks=[early_stop])\n",
    "upsampling_elapsed = timeit.default_timer() - start_time_train\n",
    "print('Training time: ' + str(upsampling_elapsed))\n",
    "\n",
    "\n",
    "# Representation of the NN arquitecture\n",
    "print(modelUp.summary())\n",
    "\n",
    "# Prediction\n",
    "y_test_pred = modelUp.predict_classes(np.array(X_sampTest))\n",
    "y_scores = modelUp.predict_proba(X_sampTest)[:,1]\n",
    "\n",
    "# Confussion matrix and classification_report\n",
    "print(classification_report(Test_Y, y_test_pred))\n",
    "\n",
    "print('Confussion matrix') \n",
    "matrix = confusion_matrix(Test_Y, y_test_pred)\n",
    "df_cm = pd.DataFrame(matrix, columns=np.unique(Test_Y), index = np.unique(Test_Y))\n",
    "df_cm.index.name = 'Actual'\n",
    "df_cm.columns.name = 'Predicted'\n",
    "plt.figure(figsize = (10,7))\n",
    "sn.set(font_scale=1.4) \n",
    "sn.heatmap(df_cm, cmap=\"PuRd\", annot=True,annot_kws={\"size\": 16})\n",
    "TN = matrix[0][0]\n",
    "FP = matrix[0][1]\n",
    "FN = matrix[1][0]\n",
    "TP = matrix[1][1]\n",
    "\n",
    "# Prediction metrics\n",
    "upsampling_accuracy = accuracy_score(Test_Y, y_test_pred)\n",
    "upsampling_imbaccuracy = balanced_accuracy_score(Test_Y, y_test_pred)\n",
    "upsampling_precision = precision_score(Test_Y, y_test_pred)\n",
    "upsampling_recall = recall_score(Test_Y, y_test_pred)\n",
    "upsampling_f1 = f1_score(Test_Y, y_test_pred)\n",
    "upsampling_auc = roc_auc_score(Test_Y, y_scores)\n",
    "upsampling_especifidad = TN / (TN + FP)\n"
   ]
  },
  {
   "cell_type": "code",
   "execution_count": 38,
   "metadata": {},
   "outputs": [
    {
     "data": {
      "image/png": "[encoded data removed]",
      "text/plain": [
       "<Figure size 432x288 with 1 Axes>"
      ]
     },
     "metadata": {},
     "output_type": "display_data"
    }
   ],
   "source": [
    "plt.plot(baseline_historyUp.history['imb_accuracy'])\n",
    "plt.plot(baseline_historyUp.history['val_imb_accuracy'])\n",
    "plt.title('model accuracy')\n",
    "plt.ylabel('accuracy')\n",
    "plt.xlabel('epoch')\n",
    "plt.legend(['train', 'val'], loc='upper left')\n",
    "plt.show()"
   ]
  },
  {
   "cell_type": "code",
   "execution_count": 39,
   "metadata": {},
   "outputs": [
    {
     "data": {
      "image/png": "[encoded data removed]",
      "text/plain": [
       "<Figure size 432x288 with 1 Axes>"
      ]
     },
     "metadata": {},
     "output_type": "display_data"
    }
   ],
   "source": [
    "plt.plot(baseline_historyUp.history['loss'])\n",
    "plt.plot(baseline_historyUp.history['val_loss'])\n",
    "plt.title('model loss')\n",
    "plt.ylabel('loss')\n",
    "plt.xlabel('epoch')\n",
    "plt.legend(['train', 'val'], loc='upper left')\n",
    "plt.show()"
   ]
  },
  {
   "cell_type": "markdown",
   "metadata": {},
   "source": [
    "### Results"
   ]
  },
  {
   "cell_type": "code",
   "execution_count": 13,
   "metadata": {},
   "outputs": [
    {
     "name": "stdout",
     "output_type": "stream",
     "text": [
      "\t\t Upsampling\n",
      "\n",
      "Accuracy:\t 0.9964912281\n",
      "Precision:\t 0.8000000000\n",
      "Recall:\t\t 0.8000000000\n",
      "Specificity:\t 0.9982300885\n",
      "\n",
      "F1 Score:\t 0.8000000000\n",
      "ROC AUC:\t 0.9996460177\n",
      "Balanced\n",
      "Accuracy:\t 0.8991150442\n",
      "Training time:\t 18.98s\n"
     ]
    }
   ],
   "source": [
    "print('\\t\\t Upsampling\\n')\n",
    "print(\"Accuracy:\\t\", \"{:0.10f}\".format(upsampling_accuracy))\n",
    "print(\"Precision:\\t\", \"{:0.10f}\".format(upsampling_precision))\n",
    "print(\"Recall:\\t\\t\", \"{:0.10f}\".format(upsampling_recall))\n",
    "print(\"Specificity:\\t\", \"{:0.10f}\".format(upsampling_especifidad))\n",
    "print(\"\\nF1 Score:\\t\", \"{:0.10f}\".format(upsampling_f1))\n",
    "print(\"ROC AUC:\\t\", \"{:0.10f}\".format(upsampling_auc))\n",
    "print(\"Balanced\\nAccuracy:\\t\", \"{:0.10f}\".format(upsampling_imbaccuracy))\n",
    "print(\"Training time:\\t\", \"{:0.2f}s\".format(upsampling_elapsed))"
   ]
  },
  {
   "cell_type": "code",
   "execution_count": 31,
   "metadata": {},
   "outputs": [
    {
     "data": {
      "text/plain": [
       "array([1, 1, 1, 1, 0, 0, 0, 0, 0, 0, 0, 0, 0, 0, 0, 0, 0, 0, 0, 0, 0, 0,\n",
       "       0, 0, 0, 0, 0, 0, 0, 0, 0, 0, 0, 0, 0, 0, 0, 0, 0, 0, 0, 0, 0, 0,\n",
       "       0, 0, 0, 0, 0, 0, 0, 0, 0, 0, 0, 0, 0, 0, 0, 0, 0, 0, 0, 0, 0, 0,\n",
       "       0, 0, 0, 0, 0, 0, 0, 0, 0, 0, 0, 0, 0, 0, 0, 0, 0, 0, 0, 0, 0, 0,\n",
       "       0, 0, 0, 0, 0, 0, 0, 0, 0, 0, 0, 0, 0, 0, 0, 0, 0, 0, 0, 0, 0, 0,\n",
       "       0, 0, 0, 0, 0, 0, 0, 0, 0, 0, 0, 0, 0, 0, 0, 0, 0, 0, 0, 0, 0, 0,\n",
       "       0, 0, 0, 0, 0, 0, 0, 0, 0, 0, 0, 0, 0, 0, 0, 0, 0, 0, 0, 0, 0, 0,\n",
       "       0, 0, 0, 0, 0, 0, 0, 0, 0, 0, 0, 0, 0, 0, 0, 0, 0, 0, 0, 0, 0, 0,\n",
       "       0, 0, 0, 0, 0, 0, 0, 0, 0, 0, 0, 0, 0, 0, 0, 0, 0, 0, 0, 0, 0, 0,\n",
       "       0, 0, 0, 0, 0, 0, 0, 0, 0, 0, 0, 0, 0, 0, 0, 0, 0, 0, 0, 0, 0, 0,\n",
       "       0, 0, 0, 0, 0, 0, 0, 0, 0, 0, 0, 0, 0, 0, 0, 0, 0, 0, 0, 0, 0, 0,\n",
       "       0, 0, 0, 0, 0, 0, 0, 0, 0, 0, 0, 0, 0, 0, 0, 0, 0, 0, 0, 0, 0, 0,\n",
       "       0, 0, 0, 0, 0, 0, 0, 0, 0, 0, 0, 0, 0, 0, 0, 0, 0, 0, 0, 0, 0, 0,\n",
       "       0, 0, 0, 0, 0, 0, 0, 0, 0, 0, 0, 0, 0, 0, 0, 0, 0, 0, 0, 0, 0, 0,\n",
       "       0, 0, 0, 0, 0, 0, 0, 0, 0, 0, 0, 0, 0, 0, 0, 0, 0, 0, 0, 0, 0, 0,\n",
       "       0, 0, 0, 0, 0, 0, 0, 0, 0, 0, 0, 0, 0, 0, 0, 0, 0, 0, 0, 0, 0, 0,\n",
       "       0, 0, 1, 0, 0, 0, 0, 0, 0, 0, 0, 0, 0, 0, 0, 0, 0, 0, 0, 0, 0, 0,\n",
       "       0, 0, 0, 0, 0, 0, 0, 0, 0, 0, 0, 0, 0, 0, 0, 0, 0, 0, 0, 0, 0, 0,\n",
       "       0, 0, 0, 0, 0, 0, 0, 0, 0, 0, 0, 0, 0, 0, 0, 0, 0, 0, 0, 0, 0, 0,\n",
       "       0, 0, 0, 0, 0, 0, 0, 0, 0, 0, 0, 0, 0, 0, 0, 0, 0, 0, 0, 0, 0, 0,\n",
       "       0, 0, 0, 0, 0, 0, 0, 0, 0, 0, 0, 0, 0, 0, 0, 0, 0, 0, 0, 0, 0, 0,\n",
       "       0, 0, 0, 0, 0, 0, 0, 0, 0, 0, 0, 0, 0, 0, 0, 0, 0, 0, 0, 0, 0, 0,\n",
       "       0, 0, 0, 0, 0, 0, 0, 0, 0, 0, 0, 0, 0, 0, 0, 0, 0, 0, 0, 0, 0, 0,\n",
       "       0, 0, 0, 0, 0, 0, 0, 0, 0, 0, 0, 0, 0, 0, 0, 0, 0, 0, 0, 0, 0, 0,\n",
       "       0, 0, 0, 0, 0, 0, 0, 0, 0, 0, 0, 0, 0, 0, 0, 0, 0, 0, 0, 0, 0, 0,\n",
       "       0, 0, 0, 0, 0, 0, 0, 0, 0, 0, 0, 0, 0, 0, 0, 0, 0, 0, 0, 0],\n",
       "      dtype=int64)"
      ]
     },
     "execution_count": 31,
     "metadata": {},
     "output_type": "execute_result"
    }
   ],
   "source": [
    "y_test_pred"
   ]
  },
  {
   "cell_type": "code",
   "execution_count": 65,
   "metadata": {},
   "outputs": [
    {
     "data": {
      "text/plain": [
       "array([0.4774634 , 0.47566664, 0.47202244, ..., 0.5442282 , 0.54950486,\n",
       "       0.55212173])"
      ]
     },
     "execution_count": 65,
     "metadata": {},
     "output_type": "execute_result"
    }
   ],
   "source": [
    "np.array(df_train_x.iloc[2])"
   ]
  },
  {
   "cell_type": "code",
   "execution_count": 68,
   "metadata": {},
   "outputs": [
    {
     "name": "stdout",
     "output_type": "stream",
     "text": [
      "[532.64 535.92 513.73 ... -28.91 -70.02 -96.67]\n"
     ]
    }
   ],
   "source": [
    "print(np.array(X_train.iloc[2]))"
   ]
  },
  {
   "cell_type": "code",
   "execution_count": 67,
   "metadata": {},
   "outputs": [],
   "source": [
    "np.set_printoptions(threshold=1000)"
   ]
  },
  {
   "cell_type": "code",
   "execution_count": null,
   "metadata": {},
   "outputs": [],
   "source": []
  }
 ],
 "metadata": {
  "kernelspec": {
   "display_name": "Python 3",
   "language": "python",
   "name": "python3"
  },
  "language_info": {
   "codemirror_mode": {
    "name": "ipython",
    "version": 3
   },
   "file_extension": ".py",
   "mimetype": "text/x-python",
   "name": "python",
   "nbconvert_exporter": "python",
   "pygments_lexer": "ipython3",
   "version": "3.8.5"
  }
 },
 "nbformat": 4,
 "nbformat_minor": 4
}
